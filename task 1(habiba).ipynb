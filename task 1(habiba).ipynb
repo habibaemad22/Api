{
 "cells": [
  {
   "cell_type": "code",
   "execution_count": 27,
   "metadata": {
    "colab": {
     "base_uri": "https://localhost:8080/"
    },
    "id": "d4VSbvW5hyih",
    "outputId": "0a4f1b68-b0d7-4bed-ad4d-7dbc0aa3f76b"
   },
   "outputs": [
    {
     "name": "stdout",
     "output_type": "stream",
     "text": [
      "<Response [200]>\n",
      "<Response [200]>\n"
     ]
    }
   ],
   "source": [
    "import requests\n",
    "\n",
    "\n",
    "url_1 = \"https://reqres.in/api/users?page=1\"\n",
    "url_2 = \"https://reqres.in/api/users?page=2\"\n",
    "\n",
    "\n",
    "\n",
    "Response_1 = requests.get(url_1)\n",
    "Response_2 = requests.get(url_2)\n",
    "\n",
    "\n",
    "print(Response_1)\n",
    "print(Response_2)"
   ]
  },
  {
   "cell_type": "code",
   "execution_count": 34,
   "metadata": {
    "colab": {
     "base_uri": "https://localhost:8080/"
    },
    "id": "TxUY61drjcQL",
    "outputId": "d5c364cd-341b-4f6c-ee08-750233f3d6bb"
   },
   "outputs": [
    {
     "data": {
      "text/plain": [
       "[{'id': 1,\n",
       "  'email': 'george.bluth@reqres.in',\n",
       "  'first_name': 'George',\n",
       "  'last_name': 'Bluth',\n",
       "  'avatar': 'https://reqres.in/img/faces/1-image.jpg'},\n",
       " {'id': 2,\n",
       "  'email': 'janet.weaver@reqres.in',\n",
       "  'first_name': 'Janet',\n",
       "  'last_name': 'Weaver',\n",
       "  'avatar': 'https://reqres.in/img/faces/2-image.jpg'},\n",
       " {'id': 3,\n",
       "  'email': 'emma.wong@reqres.in',\n",
       "  'first_name': 'Emma',\n",
       "  'last_name': 'Wong',\n",
       "  'avatar': 'https://reqres.in/img/faces/3-image.jpg'},\n",
       " {'id': 4,\n",
       "  'email': 'eve.holt@reqres.in',\n",
       "  'first_name': 'Eve',\n",
       "  'last_name': 'Holt',\n",
       "  'avatar': 'https://reqres.in/img/faces/4-image.jpg'},\n",
       " {'id': 5,\n",
       "  'email': 'charles.morris@reqres.in',\n",
       "  'first_name': 'Charles',\n",
       "  'last_name': 'Morris',\n",
       "  'avatar': 'https://reqres.in/img/faces/5-image.jpg'},\n",
       " {'id': 6,\n",
       "  'email': 'tracey.ramos@reqres.in',\n",
       "  'first_name': 'Tracey',\n",
       "  'last_name': 'Ramos',\n",
       "  'avatar': 'https://reqres.in/img/faces/6-image.jpg'},\n",
       " {'id': 7,\n",
       "  'email': 'michael.lawson@reqres.in',\n",
       "  'first_name': 'Michael',\n",
       "  'last_name': 'Lawson',\n",
       "  'avatar': 'https://reqres.in/img/faces/7-image.jpg'},\n",
       " {'id': 8,\n",
       "  'email': 'lindsay.ferguson@reqres.in',\n",
       "  'first_name': 'Lindsay',\n",
       "  'last_name': 'Ferguson',\n",
       "  'avatar': 'https://reqres.in/img/faces/8-image.jpg'},\n",
       " {'id': 9,\n",
       "  'email': 'tobias.funke@reqres.in',\n",
       "  'first_name': 'Tobias',\n",
       "  'last_name': 'Funke',\n",
       "  'avatar': 'https://reqres.in/img/faces/9-image.jpg'},\n",
       " {'id': 10,\n",
       "  'email': 'byron.fields@reqres.in',\n",
       "  'first_name': 'Byron',\n",
       "  'last_name': 'Fields',\n",
       "  'avatar': 'https://reqres.in/img/faces/10-image.jpg'},\n",
       " {'id': 11,\n",
       "  'email': 'george.edwards@reqres.in',\n",
       "  'first_name': 'George',\n",
       "  'last_name': 'Edwards',\n",
       "  'avatar': 'https://reqres.in/img/faces/11-image.jpg'},\n",
       " {'id': 12,\n",
       "  'email': 'rachel.howell@reqres.in',\n",
       "  'first_name': 'Rachel',\n",
       "  'last_name': 'Howell',\n",
       "  'avatar': 'https://reqres.in/img/faces/12-image.jpg'}]"
      ]
     },
     "execution_count": 34,
     "metadata": {},
     "output_type": "execute_result"
    }
   ],
   "source": [
    "data_page_1 = Response_1.json().get('data')\n",
    "data_page_2 = Response_2.json().get('data')\n",
    "\n",
    "data = data_page_1 +data_page_2\n",
    "data\n"
   ]
  },
  {
   "cell_type": "code",
   "execution_count": 37,
   "metadata": {
    "id": "uZobQRsjoiF6"
   },
   "outputs": [],
   "source": [
    "import csv\n",
    "with open(' all users info.csv' ,'w' , newline='' ) as file :\n",
    "\n",
    "  writer = csv.DictWriter(file , fieldnames=['Id' , 'Email' , 'Fullname' , 'Avatar'])\n",
    "  writer.writeheader()\n",
    "\n",
    "  for d in data:\n",
    "    Id = d['id']\n",
    "    Email = d['email']\n",
    "    Fullname = d['first_name']+ ' ' +d['last_name']\n",
    "    Avatar = d['avatar']\n",
    "\n",
    "    writer.writerow({'Id': Id ,'Email' : Email , 'Fullname' : Fullname , 'Avatar' : Avatar})\n"
   ]
  }
 ],
 "metadata": {
  "colab": {
   "provenance": []
  },
  "kernelspec": {
   "display_name": "Python 3",
   "name": "python3"
  },
  "language_info": {
   "name": "python"
  }
 },
 "nbformat": 4,
 "nbformat_minor": 0
}
