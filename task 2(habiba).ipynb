{
 "cells": [
  {
   "cell_type": "code",
   "execution_count": 1,
   "metadata": {
    "colab": {
     "base_uri": "https://localhost:8080/"
    },
    "id": "d4VSbvW5hyih",
    "outputId": "800c3f24-119f-411b-84e5-8a7849a0e478"
   },
   "outputs": [
    {
     "data": {
      "text/plain": [
       "<Response [200]>"
      ]
     },
     "execution_count": 1,
     "metadata": {},
     "output_type": "execute_result"
    }
   ],
   "source": [
    "import requests\n",
    "\n",
    "\n",
    "url = \"https://reqres.in/api/users?page=2\"\n",
    "\n",
    "Response = requests.get(url)\n",
    "\n",
    "Response"
   ]
  },
  {
   "cell_type": "code",
   "execution_count": 2,
   "metadata": {
    "colab": {
     "base_uri": "https://localhost:8080/"
    },
    "id": "TxUY61drjcQL",
    "outputId": "3b4d26ff-1a34-4001-d913-05d2e79e3148"
   },
   "outputs": [
    {
     "data": {
      "text/plain": [
       "{'page': 2,\n",
       " 'per_page': 6,\n",
       " 'total': 12,\n",
       " 'total_pages': 2,\n",
       " 'data': [{'id': 7,\n",
       "   'email': 'michael.lawson@reqres.in',\n",
       "   'first_name': 'Michael',\n",
       "   'last_name': 'Lawson',\n",
       "   'avatar': 'https://reqres.in/img/faces/7-image.jpg'},\n",
       "  {'id': 8,\n",
       "   'email': 'lindsay.ferguson@reqres.in',\n",
       "   'first_name': 'Lindsay',\n",
       "   'last_name': 'Ferguson',\n",
       "   'avatar': 'https://reqres.in/img/faces/8-image.jpg'},\n",
       "  {'id': 9,\n",
       "   'email': 'tobias.funke@reqres.in',\n",
       "   'first_name': 'Tobias',\n",
       "   'last_name': 'Funke',\n",
       "   'avatar': 'https://reqres.in/img/faces/9-image.jpg'},\n",
       "  {'id': 10,\n",
       "   'email': 'byron.fields@reqres.in',\n",
       "   'first_name': 'Byron',\n",
       "   'last_name': 'Fields',\n",
       "   'avatar': 'https://reqres.in/img/faces/10-image.jpg'},\n",
       "  {'id': 11,\n",
       "   'email': 'george.edwards@reqres.in',\n",
       "   'first_name': 'George',\n",
       "   'last_name': 'Edwards',\n",
       "   'avatar': 'https://reqres.in/img/faces/11-image.jpg'},\n",
       "  {'id': 12,\n",
       "   'email': 'rachel.howell@reqres.in',\n",
       "   'first_name': 'Rachel',\n",
       "   'last_name': 'Howell',\n",
       "   'avatar': 'https://reqres.in/img/faces/12-image.jpg'}],\n",
       " 'support': {'url': 'https://contentcaddy.io?utm_source=reqres&utm_medium=json&utm_campaign=referral',\n",
       "  'text': 'Tired of writing endless social media content? Let Content Caddy generate it for you.'}}"
      ]
     },
     "execution_count": 2,
     "metadata": {},
     "output_type": "execute_result"
    }
   ],
   "source": [
    "data = Response.json()\n",
    "data\n"
   ]
  },
  {
   "cell_type": "code",
   "execution_count": 3,
   "metadata": {
    "id": "uZobQRsjoiF6"
   },
   "outputs": [],
   "source": [
    "import csv\n",
    "with open('users info.csv' ,'w' , newline='' ) as file :\n",
    "\n",
    "  writer = csv.DictWriter(file , fieldnames=['Id' , 'Email' , 'Fullname' , 'Avatar'])\n",
    "  writer.writeheader()\n",
    "\n",
    "  for d in data['data']:\n",
    "    Id = d['id']\n",
    "    Email = d['email']\n",
    "    Fullname = d['first_name']+ ' ' +d['last_name']\n",
    "    Avatar = d['avatar']\n",
    "\n",
    "    writer.writerow({'Id': Id ,'Email' : Email , 'Fullname' : Fullname , 'Avatar' : Avatar})\n"
   ]
  }
 ],
 "metadata": {
  "colab": {
   "provenance": []
  },
  "kernelspec": {
   "display_name": "Python 3",
   "name": "python3"
  },
  "language_info": {
   "name": "python"
  }
 },
 "nbformat": 4,
 "nbformat_minor": 0
}
